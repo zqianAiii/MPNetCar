{
 "cells": [
  {
   "cell_type": "code",
   "execution_count": null,
   "metadata": {},
   "outputs": [],
   "source": [
    "import time\n",
    "import pickle\n",
    "import numpy as np \n",
    "import torch\n",
    "from torch import nn\n",
    "import data_loader\n",
    "import model\n",
    "from matplotlib import pyplot as plt\n",
    "%matplotlib inline"
   ]
  },
  {
   "cell_type": "code",
   "execution_count": null,
   "metadata": {},
   "outputs": [],
   "source": [
    "class StatsManager:\n",
    "    \n",
    "    def __init__(self):\n",
    "        self.init()\n",
    "        \n",
    "    def init(self):\n",
    "        self.running_loss = 0\n",
    "        self.num_update = 0\n",
    "        \n",
    "    def accumulate(self, loss):\n",
    "        self.running_loss += loss\n",
    "        self.num_update += 1\n",
    "        \n",
    "    def summarize(self):\n",
    "        #print('loss: {}'.format(self.running_loss / self.num_update))\n",
    "        return self.running_loss / self.num_update"
   ]
  },
  {
   "cell_type": "code",
   "execution_count": null,
   "metadata": {},
   "outputs": [],
   "source": [
    "#load data\n",
    "try:\n",
    "    with open('loader.pkl', 'rb') as f:\n",
    "        train_loader, val_loader = pickle.load(f)\n",
    "except:\n",
    "    train_loader, val_loader = data_loader.get_loader(['./data/path%d.txt' % i for i in range(1, 11)])\n",
    "    with open('loader.pkl', 'wb') as f:\n",
    "        pickle.dump((train_loader, val_loader), f)\n",
    "        \n",
    "print('Data loading completed')"
   ]
  },
  {
   "cell_type": "code",
   "execution_count": null,
   "metadata": {},
   "outputs": [],
   "source": [
    "#hyperparam\n",
    "lr = 0.01\n",
    "num_epoch = 200\n",
    "lamb = 0.1\n",
    "\n",
    "try:\n",
    "    with open('checkpoint.pkl', 'rb') as f:\n",
    "        epoch, train_loss, test_loss = pickle.load(f)\n",
    "    enet = torch.load('saved_enet.pth')\n",
    "    pnet = torch.load('saved_pnet.pth')\n",
    "except:\n",
    "    epoch = 0\n",
    "    train_loss = []\n",
    "    test_loss = []\n",
    "    enet = model.Enet()\n",
    "    pnet = model.Pnet()\n",
    "    \n",
    "if torch.cuda.is_available():\n",
    "    enet = enet.cuda()\n",
    "    pnet = pnet.cuda()\n",
    "enet.train()\n",
    "pnet.train()\n",
    "    \n",
    "optimizer = torch.optim.Adagrad(list(enet.parameters())+list(pnet.parameters()), lr = lr, weight_decay = lamb)\n",
    "stats = StatsManager()"
   ]
  },
  {
   "cell_type": "code",
   "execution_count": null,
   "metadata": {
    "scrolled": true
   },
   "outputs": [],
   "source": [
    "#training\n",
    "while epoch < num_epoch:\n",
    "    \n",
    "    start = time.time()\n",
    "    \n",
    "    stats.init()\n",
    "    for batch in train_loader:\n",
    "        pc, x, d = batch[0].cuda(), batch[1].cuda(), batch[2].cuda()\n",
    "        optimizer.zero_grad()\n",
    "        z = enet(pc)\n",
    "        y = pnet(z, x)\n",
    "        loss = pnet.criterion(d, y)\n",
    "        loss.backward()\n",
    "        with torch.no_grad():\n",
    "            stats.accumulate(loss)\n",
    "        optimizer.step()\n",
    "    train_loss.append(stats.summarize())\n",
    "    \n",
    "    stats.init()\n",
    "    for batch in val_loader:\n",
    "        pc, x, d = batch[0].cuda(), batch[1].cuda(), batch[2].cuda()\n",
    "        z = enet(pc)\n",
    "        y = pnet(z, x)\n",
    "        loss = pnet.criterion(d, y)\n",
    "        with torch.no_grad():\n",
    "            stats.accumulate(loss)\n",
    "    test_loss.append(stats.summarize())\n",
    "\n",
    "    plt.plot(train_loss, label = 'Training')\n",
    "    plt.plot(test_loss, label = 'Testing')\n",
    "    plt.grid()\n",
    "    plt.legend()\n",
    "    plt.show()\n",
    "    print(\"Epoch {}: training loss: {}, testing loss:{}\\nTime: {}s\".format(epoch, train_loss[-1], test_loss[-1], time.time() - start))\n",
    "    \n",
    "\n",
    "    torch.save(enet, 'saved_enet.pth')\n",
    "    torch.save(pnet, 'saved_pnet.pth')\n",
    "        \n",
    "    epoch += 1\n",
    "    \n",
    "    with open('checkpoint.pkl', 'wb') as f:\n",
    "        pickle.dump((epoch, train_loss, test_loss), f)"
   ]
  },
  {
   "cell_type": "code",
   "execution_count": null,
   "metadata": {},
   "outputs": [],
   "source": []
  }
 ],
 "metadata": {
  "kernelspec": {
   "display_name": "Python 3",
   "language": "python",
   "name": "python3"
  },
  "language_info": {
   "codemirror_mode": {
    "name": "ipython",
    "version": 3
   },
   "file_extension": ".py",
   "mimetype": "text/x-python",
   "name": "python",
   "nbconvert_exporter": "python",
   "pygments_lexer": "ipython3",
   "version": "3.6.8"
  }
 },
 "nbformat": 4,
 "nbformat_minor": 2
}
